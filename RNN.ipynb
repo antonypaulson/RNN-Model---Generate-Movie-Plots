{
  "nbformat": 4,
  "nbformat_minor": 0,
  "metadata": {
    "colab": {
      "name": "RNN-Assignment- Antony Paulson Chazhoor (ca6953).ipynb",
      "version": "0.3.2",
      "provenance": [],
      "collapsed_sections": []
    },
    "kernelspec": {
      "name": "python3",
      "display_name": "Python 3"
    },
    "accelerator": "GPU"
  },
  "cells": [
    {
      "metadata": {
        "id": "p8eCOqyvxo31",
        "colab_type": "code",
        "colab": {}
      },
      "cell_type": "code",
      "source": [
        "#Importing necesscary libraries\n",
        "import numpy as np\n",
        "from keras.models import Sequential\n",
        "from keras.layers import Dense\n",
        "from keras.layers import Dropout\n",
        "from keras.layers import LSTM\n",
        "from keras.layers import  Bidirectional\n",
        "from keras.callbacks import ModelCheckpoint\n",
        "from keras.utils import np_utils\n",
        "import pandas as pd"
      ],
      "execution_count": 0,
      "outputs": []
    },
    {
      "metadata": {
        "id": "j3h5Z4wTyHcI",
        "colab_type": "code",
        "outputId": "ed6b5fae-0fbd-4617-e6dc-dc87656d2d88",
        "colab": {
          "base_uri": "https://localhost:8080/",
          "height": 669
        }
      },
      "cell_type": "code",
      "source": [
        "#Creating a dataframe of relevant data and checking for important columns\n",
        "df = pd.read_csv('tmdb_5000_movies.csv')\n",
        "df.head(2).T"
      ],
      "execution_count": 109,
      "outputs": [
        {
          "output_type": "execute_result",
          "data": {
            "text/html": [
              "<div>\n",
              "<style scoped>\n",
              "    .dataframe tbody tr th:only-of-type {\n",
              "        vertical-align: middle;\n",
              "    }\n",
              "\n",
              "    .dataframe tbody tr th {\n",
              "        vertical-align: top;\n",
              "    }\n",
              "\n",
              "    .dataframe thead th {\n",
              "        text-align: right;\n",
              "    }\n",
              "</style>\n",
              "<table border=\"1\" class=\"dataframe\">\n",
              "  <thead>\n",
              "    <tr style=\"text-align: right;\">\n",
              "      <th></th>\n",
              "      <th>0</th>\n",
              "      <th>1</th>\n",
              "    </tr>\n",
              "  </thead>\n",
              "  <tbody>\n",
              "    <tr>\n",
              "      <th>budget</th>\n",
              "      <td>237000000</td>\n",
              "      <td>300000000</td>\n",
              "    </tr>\n",
              "    <tr>\n",
              "      <th>genres</th>\n",
              "      <td>[{\"id\": 28, \"name\": \"Action\"}, {\"id\": 12, \"nam...</td>\n",
              "      <td>[{\"id\": 12, \"name\": \"Adventure\"}, {\"id\": 14, \"...</td>\n",
              "    </tr>\n",
              "    <tr>\n",
              "      <th>homepage</th>\n",
              "      <td>http://www.avatarmovie.com/</td>\n",
              "      <td>http://disney.go.com/disneypictures/pirates/</td>\n",
              "    </tr>\n",
              "    <tr>\n",
              "      <th>id</th>\n",
              "      <td>19995</td>\n",
              "      <td>285</td>\n",
              "    </tr>\n",
              "    <tr>\n",
              "      <th>keywords</th>\n",
              "      <td>[{\"id\": 1463, \"name\": \"culture clash\"}, {\"id\":...</td>\n",
              "      <td>[{\"id\": 270, \"name\": \"ocean\"}, {\"id\": 726, \"na...</td>\n",
              "    </tr>\n",
              "    <tr>\n",
              "      <th>original_language</th>\n",
              "      <td>en</td>\n",
              "      <td>en</td>\n",
              "    </tr>\n",
              "    <tr>\n",
              "      <th>original_title</th>\n",
              "      <td>Avatar</td>\n",
              "      <td>Pirates of the Caribbean: At World's End</td>\n",
              "    </tr>\n",
              "    <tr>\n",
              "      <th>overview</th>\n",
              "      <td>In the 22nd century, a paraplegic Marine is di...</td>\n",
              "      <td>Captain Barbossa, long believed to be dead, ha...</td>\n",
              "    </tr>\n",
              "    <tr>\n",
              "      <th>popularity</th>\n",
              "      <td>150.438</td>\n",
              "      <td>139.083</td>\n",
              "    </tr>\n",
              "    <tr>\n",
              "      <th>production_companies</th>\n",
              "      <td>[{\"name\": \"Ingenious Film Partners\", \"id\": 289...</td>\n",
              "      <td>[{\"name\": \"Walt Disney Pictures\", \"id\": 2}, {\"...</td>\n",
              "    </tr>\n",
              "    <tr>\n",
              "      <th>production_countries</th>\n",
              "      <td>[{\"iso_3166_1\": \"US\", \"name\": \"United States o...</td>\n",
              "      <td>[{\"iso_3166_1\": \"US\", \"name\": \"United States o...</td>\n",
              "    </tr>\n",
              "    <tr>\n",
              "      <th>release_date</th>\n",
              "      <td>2009-12-10</td>\n",
              "      <td>2007-05-19</td>\n",
              "    </tr>\n",
              "    <tr>\n",
              "      <th>revenue</th>\n",
              "      <td>2787965087</td>\n",
              "      <td>961000000</td>\n",
              "    </tr>\n",
              "    <tr>\n",
              "      <th>runtime</th>\n",
              "      <td>162</td>\n",
              "      <td>169</td>\n",
              "    </tr>\n",
              "    <tr>\n",
              "      <th>spoken_languages</th>\n",
              "      <td>[{\"iso_639_1\": \"en\", \"name\": \"English\"}, {\"iso...</td>\n",
              "      <td>[{\"iso_639_1\": \"en\", \"name\": \"English\"}]</td>\n",
              "    </tr>\n",
              "    <tr>\n",
              "      <th>status</th>\n",
              "      <td>Released</td>\n",
              "      <td>Released</td>\n",
              "    </tr>\n",
              "    <tr>\n",
              "      <th>tagline</th>\n",
              "      <td>Enter the World of Pandora.</td>\n",
              "      <td>At the end of the world, the adventure begins.</td>\n",
              "    </tr>\n",
              "    <tr>\n",
              "      <th>title</th>\n",
              "      <td>Avatar</td>\n",
              "      <td>Pirates of the Caribbean: At World's End</td>\n",
              "    </tr>\n",
              "    <tr>\n",
              "      <th>vote_average</th>\n",
              "      <td>7.2</td>\n",
              "      <td>6.9</td>\n",
              "    </tr>\n",
              "    <tr>\n",
              "      <th>vote_count</th>\n",
              "      <td>11800</td>\n",
              "      <td>4500</td>\n",
              "    </tr>\n",
              "  </tbody>\n",
              "</table>\n",
              "</div>"
            ],
            "text/plain": [
              "                                                                      0  \\\n",
              "budget                                                        237000000   \n",
              "genres                [{\"id\": 28, \"name\": \"Action\"}, {\"id\": 12, \"nam...   \n",
              "homepage                                    http://www.avatarmovie.com/   \n",
              "id                                                                19995   \n",
              "keywords              [{\"id\": 1463, \"name\": \"culture clash\"}, {\"id\":...   \n",
              "original_language                                                    en   \n",
              "original_title                                                   Avatar   \n",
              "overview              In the 22nd century, a paraplegic Marine is di...   \n",
              "popularity                                                      150.438   \n",
              "production_companies  [{\"name\": \"Ingenious Film Partners\", \"id\": 289...   \n",
              "production_countries  [{\"iso_3166_1\": \"US\", \"name\": \"United States o...   \n",
              "release_date                                                 2009-12-10   \n",
              "revenue                                                      2787965087   \n",
              "runtime                                                             162   \n",
              "spoken_languages      [{\"iso_639_1\": \"en\", \"name\": \"English\"}, {\"iso...   \n",
              "status                                                         Released   \n",
              "tagline                                     Enter the World of Pandora.   \n",
              "title                                                            Avatar   \n",
              "vote_average                                                        7.2   \n",
              "vote_count                                                        11800   \n",
              "\n",
              "                                                                      1  \n",
              "budget                                                        300000000  \n",
              "genres                [{\"id\": 12, \"name\": \"Adventure\"}, {\"id\": 14, \"...  \n",
              "homepage                   http://disney.go.com/disneypictures/pirates/  \n",
              "id                                                                  285  \n",
              "keywords              [{\"id\": 270, \"name\": \"ocean\"}, {\"id\": 726, \"na...  \n",
              "original_language                                                    en  \n",
              "original_title                 Pirates of the Caribbean: At World's End  \n",
              "overview              Captain Barbossa, long believed to be dead, ha...  \n",
              "popularity                                                      139.083  \n",
              "production_companies  [{\"name\": \"Walt Disney Pictures\", \"id\": 2}, {\"...  \n",
              "production_countries  [{\"iso_3166_1\": \"US\", \"name\": \"United States o...  \n",
              "release_date                                                 2007-05-19  \n",
              "revenue                                                       961000000  \n",
              "runtime                                                             169  \n",
              "spoken_languages               [{\"iso_639_1\": \"en\", \"name\": \"English\"}]  \n",
              "status                                                         Released  \n",
              "tagline                  At the end of the world, the adventure begins.  \n",
              "title                          Pirates of the Caribbean: At World's End  \n",
              "vote_average                                                        6.9  \n",
              "vote_count                                                         4500  "
            ]
          },
          "metadata": {
            "tags": []
          },
          "execution_count": 109
        }
      ]
    },
    {
      "metadata": {
        "id": "wfaCUvR0yNvX",
        "colab_type": "code",
        "outputId": "13f997c9-17c8-4a5d-a1ed-2df2cfa88662",
        "colab": {
          "base_uri": "https://localhost:8080/",
          "height": 68
        }
      },
      "cell_type": "code",
      "source": [
        "#Cleaning the dataset and removing duplicate values\n",
        "print('{:>28}'.format('entries from dataset:'), df.shape[0])\n",
        "df = df.drop_duplicates(['original_title'])\n",
        "print('{:>28}'.format('entries without duplication:'), df.shape[0])\n",
        "df_clean = df[['genres', 'title', 'overview']].dropna()\n",
        "print('{:>28}'.format('entries from cleaned data:'), df_clean.shape[0])"
      ],
      "execution_count": 110,
      "outputs": [
        {
          "output_type": "stream",
          "text": [
            "       entries from dataset: 4803\n",
            "entries without duplication: 4801\n",
            "  entries from cleaned data: 4798\n"
          ],
          "name": "stdout"
        }
      ]
    },
    {
      "metadata": {
        "id": "gy03llJb0sRw",
        "colab_type": "code",
        "colab": {}
      },
      "cell_type": "code",
      "source": [
        "#Split the records for each genre\n",
        "df_genre = pd.DataFrame(columns = ['genre', 'cgenres','title','overview'])\n",
        "\n",
        "def dataPrep(row):\n",
        "    global df_genre\n",
        "    d = {}\n",
        "    genres = np.array([g['name'] for g in eval(row['genres'])])\n",
        "    n = genres.size\n",
        "    d['title'] = [row['title']]*n\n",
        "    d['overview'] = [row['overview']]*n\n",
        "    d['genre'], d['cgenres'] = [], []\n",
        "    for genre in genres:\n",
        "        d['genre'].append(genre)\n",
        "        d['cgenres'].append(genres[genres != genre])\n",
        "    df_genre = df_genre.append(pd.DataFrame(d), ignore_index=True)\n",
        "df_clean.apply(dataPrep, axis=1)\n",
        "df_genre = df_genre[['genre','cgenres','title','overview']]\n",
        "df_genre = df_genre.infer_objects()"
      ],
      "execution_count": 0,
      "outputs": []
    },
    {
      "metadata": {
        "id": "RynqF6zg7q2A",
        "colab_type": "code",
        "outputId": "dc15a1fa-9bc5-424e-a8bf-1cfe6d570495",
        "colab": {
          "base_uri": "https://localhost:8080/",
          "height": 34
        }
      },
      "cell_type": "code",
      "source": [
        "#Number of records\n",
        "df_genre.shape"
      ],
      "execution_count": 112,
      "outputs": [
        {
          "output_type": "execute_result",
          "data": {
            "text/plain": [
              "(12151, 4)"
            ]
          },
          "metadata": {
            "tags": []
          },
          "execution_count": 112
        }
      ]
    },
    {
      "metadata": {
        "id": "rcgnvNaPFJPp",
        "colab_type": "code",
        "colab": {
          "base_uri": "https://localhost:8080/",
          "height": 204
        },
        "outputId": "6fe10ecb-1b56-4b17-94c0-ef969ddc962c"
      },
      "cell_type": "code",
      "source": [
        "#Transferring the new clean dataframe to a new dataframe for sequential modelling\n",
        "df_clean = df_genre\n",
        "df_clean.head()"
      ],
      "execution_count": 113,
      "outputs": [
        {
          "output_type": "execute_result",
          "data": {
            "text/html": [
              "<div>\n",
              "<style scoped>\n",
              "    .dataframe tbody tr th:only-of-type {\n",
              "        vertical-align: middle;\n",
              "    }\n",
              "\n",
              "    .dataframe tbody tr th {\n",
              "        vertical-align: top;\n",
              "    }\n",
              "\n",
              "    .dataframe thead th {\n",
              "        text-align: right;\n",
              "    }\n",
              "</style>\n",
              "<table border=\"1\" class=\"dataframe\">\n",
              "  <thead>\n",
              "    <tr style=\"text-align: right;\">\n",
              "      <th></th>\n",
              "      <th>genre</th>\n",
              "      <th>cgenres</th>\n",
              "      <th>title</th>\n",
              "      <th>overview</th>\n",
              "    </tr>\n",
              "  </thead>\n",
              "  <tbody>\n",
              "    <tr>\n",
              "      <th>0</th>\n",
              "      <td>Action</td>\n",
              "      <td>[Adventure, Fantasy, Science Fiction]</td>\n",
              "      <td>Avatar</td>\n",
              "      <td>In the 22nd century, a paraplegic Marine is di...</td>\n",
              "    </tr>\n",
              "    <tr>\n",
              "      <th>1</th>\n",
              "      <td>Adventure</td>\n",
              "      <td>[Action, Fantasy, Science Fiction]</td>\n",
              "      <td>Avatar</td>\n",
              "      <td>In the 22nd century, a paraplegic Marine is di...</td>\n",
              "    </tr>\n",
              "    <tr>\n",
              "      <th>2</th>\n",
              "      <td>Fantasy</td>\n",
              "      <td>[Action, Adventure, Science Fiction]</td>\n",
              "      <td>Avatar</td>\n",
              "      <td>In the 22nd century, a paraplegic Marine is di...</td>\n",
              "    </tr>\n",
              "    <tr>\n",
              "      <th>3</th>\n",
              "      <td>Science Fiction</td>\n",
              "      <td>[Action, Adventure, Fantasy]</td>\n",
              "      <td>Avatar</td>\n",
              "      <td>In the 22nd century, a paraplegic Marine is di...</td>\n",
              "    </tr>\n",
              "    <tr>\n",
              "      <th>4</th>\n",
              "      <td>Adventure</td>\n",
              "      <td>[Fantasy, Action]</td>\n",
              "      <td>Pirates of the Caribbean: At World's End</td>\n",
              "      <td>Captain Barbossa, long believed to be dead, ha...</td>\n",
              "    </tr>\n",
              "  </tbody>\n",
              "</table>\n",
              "</div>"
            ],
            "text/plain": [
              "             genre                                cgenres  \\\n",
              "0           Action  [Adventure, Fantasy, Science Fiction]   \n",
              "1        Adventure     [Action, Fantasy, Science Fiction]   \n",
              "2          Fantasy   [Action, Adventure, Science Fiction]   \n",
              "3  Science Fiction           [Action, Adventure, Fantasy]   \n",
              "4        Adventure                      [Fantasy, Action]   \n",
              "\n",
              "                                      title  \\\n",
              "0                                    Avatar   \n",
              "1                                    Avatar   \n",
              "2                                    Avatar   \n",
              "3                                    Avatar   \n",
              "4  Pirates of the Caribbean: At World's End   \n",
              "\n",
              "                                            overview  \n",
              "0  In the 22nd century, a paraplegic Marine is di...  \n",
              "1  In the 22nd century, a paraplegic Marine is di...  \n",
              "2  In the 22nd century, a paraplegic Marine is di...  \n",
              "3  In the 22nd century, a paraplegic Marine is di...  \n",
              "4  Captain Barbossa, long believed to be dead, ha...  "
            ]
          },
          "metadata": {
            "tags": []
          },
          "execution_count": 113
        }
      ]
    },
    {
      "metadata": {
        "id": "ZkJBJukyF8zZ",
        "colab_type": "code",
        "colab": {}
      },
      "cell_type": "code",
      "source": [
        "#The three sets of genres for which plots(overviews) have to be generated \n",
        "x = ['Family','Thriller','Comedy']\n",
        "y = ['Fantasy', 'Documentary', 'Action']\n",
        "z = ['Family', 'Adventure']"
      ],
      "execution_count": 0,
      "outputs": []
    },
    {
      "metadata": {
        "id": "XmqA0nspi8DZ",
        "colab_type": "code",
        "outputId": "723fe341-523c-4810-cac3-12daf1257477",
        "colab": {
          "base_uri": "https://localhost:8080/",
          "height": 221
        }
      },
      "cell_type": "code",
      "source": [
        "#Selecting the genre\n",
        "df_clean = df_clean.loc[df_clean['genre'].isin(y)]\n",
        "print(len(df_clean))\n",
        "df_clean.head()"
      ],
      "execution_count": 115,
      "outputs": [
        {
          "output_type": "stream",
          "text": [
            "1686\n"
          ],
          "name": "stdout"
        },
        {
          "output_type": "execute_result",
          "data": {
            "text/html": [
              "<div>\n",
              "<style scoped>\n",
              "    .dataframe tbody tr th:only-of-type {\n",
              "        vertical-align: middle;\n",
              "    }\n",
              "\n",
              "    .dataframe tbody tr th {\n",
              "        vertical-align: top;\n",
              "    }\n",
              "\n",
              "    .dataframe thead th {\n",
              "        text-align: right;\n",
              "    }\n",
              "</style>\n",
              "<table border=\"1\" class=\"dataframe\">\n",
              "  <thead>\n",
              "    <tr style=\"text-align: right;\">\n",
              "      <th></th>\n",
              "      <th>genre</th>\n",
              "      <th>cgenres</th>\n",
              "      <th>title</th>\n",
              "      <th>overview</th>\n",
              "    </tr>\n",
              "  </thead>\n",
              "  <tbody>\n",
              "    <tr>\n",
              "      <th>0</th>\n",
              "      <td>Action</td>\n",
              "      <td>[Adventure, Fantasy, Science Fiction]</td>\n",
              "      <td>Avatar</td>\n",
              "      <td>In the 22nd century, a paraplegic Marine is di...</td>\n",
              "    </tr>\n",
              "    <tr>\n",
              "      <th>2</th>\n",
              "      <td>Fantasy</td>\n",
              "      <td>[Action, Adventure, Science Fiction]</td>\n",
              "      <td>Avatar</td>\n",
              "      <td>In the 22nd century, a paraplegic Marine is di...</td>\n",
              "    </tr>\n",
              "    <tr>\n",
              "      <th>5</th>\n",
              "      <td>Fantasy</td>\n",
              "      <td>[Adventure, Action]</td>\n",
              "      <td>Pirates of the Caribbean: At World's End</td>\n",
              "      <td>Captain Barbossa, long believed to be dead, ha...</td>\n",
              "    </tr>\n",
              "    <tr>\n",
              "      <th>6</th>\n",
              "      <td>Action</td>\n",
              "      <td>[Adventure, Fantasy]</td>\n",
              "      <td>Pirates of the Caribbean: At World's End</td>\n",
              "      <td>Captain Barbossa, long believed to be dead, ha...</td>\n",
              "    </tr>\n",
              "    <tr>\n",
              "      <th>7</th>\n",
              "      <td>Action</td>\n",
              "      <td>[Adventure, Crime]</td>\n",
              "      <td>Spectre</td>\n",
              "      <td>A cryptic message from Bond’s past sends him o...</td>\n",
              "    </tr>\n",
              "  </tbody>\n",
              "</table>\n",
              "</div>"
            ],
            "text/plain": [
              "     genre                                cgenres  \\\n",
              "0   Action  [Adventure, Fantasy, Science Fiction]   \n",
              "2  Fantasy   [Action, Adventure, Science Fiction]   \n",
              "5  Fantasy                    [Adventure, Action]   \n",
              "6   Action                   [Adventure, Fantasy]   \n",
              "7   Action                     [Adventure, Crime]   \n",
              "\n",
              "                                      title  \\\n",
              "0                                    Avatar   \n",
              "2                                    Avatar   \n",
              "5  Pirates of the Caribbean: At World's End   \n",
              "6  Pirates of the Caribbean: At World's End   \n",
              "7                                   Spectre   \n",
              "\n",
              "                                            overview  \n",
              "0  In the 22nd century, a paraplegic Marine is di...  \n",
              "2  In the 22nd century, a paraplegic Marine is di...  \n",
              "5  Captain Barbossa, long believed to be dead, ha...  \n",
              "6  Captain Barbossa, long believed to be dead, ha...  \n",
              "7  A cryptic message from Bond’s past sends him o...  "
            ]
          },
          "metadata": {
            "tags": []
          },
          "execution_count": 115
        }
      ]
    },
    {
      "metadata": {
        "id": "BPwyUaLJIip4",
        "colab_type": "code",
        "outputId": "e9f0dd5a-c8c3-4ffe-daaf-92aecf8b9c5e",
        "colab": {
          "base_uri": "https://localhost:8080/",
          "height": 51
        }
      },
      "cell_type": "code",
      "source": [
        "#Finding the number of plots and total characters\n",
        "plots = df_clean['overview']\n",
        "\n",
        "n_messages = len(plots)\n",
        "n_chars = len(' '.join(map(str, plots)))\n",
        "\n",
        "print(\"The number of plots are\",n_messages)\n",
        "print(\"Their content adds up to a total character count of\", n_chars)"
      ],
      "execution_count": 116,
      "outputs": [
        {
          "output_type": "stream",
          "text": [
            "The number of plots are 1686\n",
            "Their content adds up to a total character count of 547182\n"
          ],
          "name": "stdout"
        }
      ]
    },
    {
      "metadata": {
        "id": "bOdr5YRONW4S",
        "colab_type": "code",
        "outputId": "fcbc4786-5316-4bec-b674-489744466fd2",
        "colab": {
          "base_uri": "https://localhost:8080/",
          "height": 34
        }
      },
      "cell_type": "code",
      "source": [
        "#Converting all characters to lowercase and creating a long sequence of relevant plots\n",
        "sample_size = int(len(plots))\n",
        "\n",
        "plots = plots[:sample_size]\n",
        "plots = ''.join(map(str, plots)).lower()\n",
        "\n",
        "plots[:100] # Show first 100 characters"
      ],
      "execution_count": 117,
      "outputs": [
        {
          "output_type": "execute_result",
          "data": {
            "text/plain": [
              "'in the 22nd century, a paraplegic marine is dispatched to the moon pandora on a unique mission, but '"
            ]
          },
          "metadata": {
            "tags": []
          },
          "execution_count": 117
        }
      ]
    },
    {
      "metadata": {
        "id": "RYgFTlVysSfF",
        "colab_type": "code",
        "outputId": "466e0a6d-6e1e-492b-dd35-b4b99cb68912",
        "colab": {
          "base_uri": "https://localhost:8080/",
          "height": 34
        }
      },
      "cell_type": "code",
      "source": [
        "#Finding the number of unique characters\n",
        "chars = sorted(list(set(plots)))\n",
        "print('Count of unique characters (i.e., features):', len(chars))\n",
        "char_indices = dict((c, i) for i, c in enumerate(chars))\n",
        "indices_char = dict((i, c) for i, c in enumerate(chars))"
      ],
      "execution_count": 118,
      "outputs": [
        {
          "output_type": "stream",
          "text": [
            "Count of unique characters (i.e., features): 79\n"
          ],
          "name": "stdout"
        }
      ]
    },
    {
      "metadata": {
        "id": "SaeTmI3Rs5xt",
        "colab_type": "code",
        "outputId": "ed35b8d6-9d9d-48c9-e521-c2b0bc936dbf",
        "colab": {
          "base_uri": "https://localhost:8080/",
          "height": 122
        }
      },
      "cell_type": "code",
      "source": [
        "#Modelling the sequences\n",
        "maxlen = 50\n",
        "step = 1\n",
        "sentences = []\n",
        "next_chars = []\n",
        "for i in range(0, len(plots) - maxlen, step):\n",
        "    sentences.append(plots[i: i + maxlen])\n",
        "    next_chars.append(plots[i + maxlen])\n",
        "print('Number of sequences:', len(sentences), \"\\n\")\n",
        "\n",
        "print(sentences[:10], \"\\n\")\n",
        "print(next_chars[:10])"
      ],
      "execution_count": 119,
      "outputs": [
        {
          "output_type": "stream",
          "text": [
            "Number of sequences: 545447 \n",
            "\n",
            "['in the 22nd century, a paraplegic marine is dispat', 'n the 22nd century, a paraplegic marine is dispatc', ' the 22nd century, a paraplegic marine is dispatch', 'the 22nd century, a paraplegic marine is dispatche', 'he 22nd century, a paraplegic marine is dispatched', 'e 22nd century, a paraplegic marine is dispatched ', ' 22nd century, a paraplegic marine is dispatched t', '22nd century, a paraplegic marine is dispatched to', '2nd century, a paraplegic marine is dispatched to ', 'nd century, a paraplegic marine is dispatched to t'] \n",
            "\n",
            "['c', 'h', 'e', 'd', ' ', 't', 'o', ' ', 't', 'h']\n"
          ],
          "name": "stdout"
        }
      ]
    },
    {
      "metadata": {
        "id": "u2v7voNftBEK",
        "colab_type": "code",
        "colab": {}
      },
      "cell_type": "code",
      "source": [
        "#Converting the characters for inputs into the LSTM model\n",
        "x = np.zeros((len(sentences), maxlen, len(chars)), dtype=np.bool)\n",
        "y = np.zeros((len(sentences), len(chars)), dtype=np.bool)\n",
        "for i, sentence in enumerate(sentences):\n",
        "    for t, char in enumerate(sentence):\n",
        "        x[i, t, char_indices[char]] = 1\n",
        "    y[i, char_indices[next_chars[i]]] = 1"
      ],
      "execution_count": 0,
      "outputs": []
    },
    {
      "metadata": {
        "id": "BMTxtZeeu6aE",
        "colab_type": "code",
        "colab": {}
      },
      "cell_type": "code",
      "source": [
        "#Importing additional libraries\n",
        "from keras.models import Sequential\n",
        "from keras.layers import Dense, Activation\n",
        "from keras.layers import LSTM\n",
        "from keras.optimizers import RMSprop\n",
        "from keras.callbacks import LambdaCallback, ModelCheckpoint\n",
        "import random\n",
        "import sys\n",
        "import io"
      ],
      "execution_count": 0,
      "outputs": []
    },
    {
      "metadata": {
        "id": "LN9NIldXvDbJ",
        "colab_type": "code",
        "colab": {}
      },
      "cell_type": "code",
      "source": [
        "#Creating the model\n",
        "model = Sequential()\n",
        "model.add(LSTM(128, input_shape=(maxlen, len(chars))))\n",
        "model.add(Dense(len(chars)))\n",
        "model.add(Activation('softmax'))\n",
        "optimizer = RMSprop(lr=0.01)\n",
        "model.compile(loss='categorical_crossentropy', optimizer=optimizer)"
      ],
      "execution_count": 0,
      "outputs": []
    },
    {
      "metadata": {
        "id": "Xk5snkJ2vLHW",
        "colab_type": "code",
        "colab": {}
      },
      "cell_type": "code",
      "source": [
        "def sample(preds, temperature=1.0):\n",
        "    # helper function to sample an index from a probability array\n",
        "    preds = np.asarray(preds).astype('float64')\n",
        "    preds = np.log(preds) / temperature\n",
        "    exp_preds = np.exp(preds)\n",
        "    preds = exp_preds / np.sum(exp_preds)\n",
        "    probas = np.random.multinomial(1, preds, 1)\n",
        "    return np.argmax(probas)\n",
        "\n",
        "def on_epoch_end(epoch, logs):\n",
        "    # Function invoked for specified epochs. Prints generated text.\n",
        "    # Using epoch+1 to be consistent with the training epochs printed by Keras\n",
        "    if epoch+1 == 1 or epoch+1 == 15:\n",
        "        print()\n",
        "        print('----- Generating text after Epoch: %d' % epoch)\n",
        "\n",
        "        start_index = random.randint(0, len(plots) - maxlen - 1)\n",
        "        for diversity in [0.7]:\n",
        "            print('----- diversity:', diversity)\n",
        "\n",
        "            generated = ''\n",
        "            sentence = plots[start_index: start_index + maxlen]\n",
        "            generated += sentence\n",
        "            print('----- Generating with seed: \"' + sentence + '\"')\n",
        "            sys.stdout.write(generated)\n",
        "\n",
        "            for i in range(400):\n",
        "                x_pred = np.zeros((1, maxlen, len(chars)))\n",
        "                for t, char in enumerate(sentence):\n",
        "                    x_pred[0, t, char_indices[char]] = 1.\n",
        "\n",
        "                preds = model.predict(x_pred, verbose=0)[0]\n",
        "                next_index = sample(preds, diversity)\n",
        "                next_char = indices_char[next_index]\n",
        "\n",
        "                generated += next_char\n",
        "                sentence = sentence[1:] + next_char\n",
        "\n",
        "                sys.stdout.write(next_char)\n",
        "                if (i%100==0):\n",
        "                  print(\"\\n\")\n",
        "                sys.stdout.flush()\n",
        "            print()\n",
        "    else:\n",
        "        print()\n",
        "        print('----- Not generating text after Epoch: %d' % epoch)\n",
        "\n",
        "generate_text = LambdaCallback(on_epoch_end=on_epoch_end)"
      ],
      "execution_count": 0,
      "outputs": []
    },
    {
      "metadata": {
        "id": "8UtTVxMQwDlG",
        "colab_type": "code",
        "outputId": "dab27c85-878e-4655-fe40-fbfbea7efd52",
        "colab": {
          "base_uri": "https://localhost:8080/",
          "height": 289
        }
      },
      "cell_type": "code",
      "source": [
        "# fitting the model and producing plots for  for ['Fantasy', 'Documentary', 'Action']\n",
        "    model.fit(x, y,\n",
        "              batch_size=128,\n",
        "              epochs=1,\n",
        "              verbose=2,\n",
        "              callbacks=[generate_text])"
      ],
      "execution_count": 125,
      "outputs": [
        {
          "output_type": "stream",
          "text": [
            "Epoch 1/1\n",
            " - 566s - loss: 1.8771\n",
            "\n",
            "----- Generating text after Epoch: 0\n",
            "----- diversity: 0.7\n",
            "----- Generating with seed: \"uld have a major impact on global politics. when m\"\n",
            "uld have a major impact on global politics. when mi\n",
            "\n",
            "ddle of witne has strendst of the class aboue to an atanist gives caro also to soon who and long the\n",
            "\n",
            " peciales and all into the mussion an arries comes any a hopen sente box at his capatic deseat a sev\n",
            "\n",
            "ien to transforms of the childrenus of has bely a set and a from superon was also just in the rooked\n",
            "\n",
            " protect he an every the boy and a become for a polace and to fighting his moved hampses of middici\n"
          ],
          "name": "stdout"
        },
        {
          "output_type": "execute_result",
          "data": {
            "text/plain": [
              "<keras.callbacks.History at 0x7fe129e2eba8>"
            ]
          },
          "metadata": {
            "tags": []
          },
          "execution_count": 125
        }
      ]
    },
    {
      "metadata": {
        "id": "Tl9bqqNYHhuM",
        "colab_type": "code",
        "colab": {
          "base_uri": "https://localhost:8080/",
          "height": 289
        },
        "outputId": "5537592f-b6c9-4429-f4e9-bcf09c062a02"
      },
      "cell_type": "code",
      "source": [
        "# fitting the model and producing plots for genres ['Family, 'Adventure']\n",
        "    model.fit(x, y,\n",
        "              batch_size=128,\n",
        "              epochs=1,\n",
        "              verbose=2,\n",
        "              callbacks=[generate_text])"
      ],
      "execution_count": 89,
      "outputs": [
        {
          "output_type": "stream",
          "text": [
            "Epoch 1/1\n",
            " - 431s - loss: 1.8984\n",
            "\n",
            "----- Generating text after Epoch: 0\n",
            "----- diversity: 0.7\n",
            "----- Generating with seed: \"he last of his kind, but when word comes that jewe\"\n",
            "he last of his kind, but when word comes that jewel\n",
            "\n",
            "e and its the chare of a son as believes susron to dony who massion and from traes is the mastered t\n",
            "\n",
            "o with the forced to live his set to be the that the broodles the masion of fastrol about father bea\n",
            "\n",
            "t the back in the loss enawes a haspay a trotent complete to return on a timting the faces of a beal\n",
            "\n",
            " and sucred years of every realh of a staring exector no merr of a rady wast all dog who death, shi\n"
          ],
          "name": "stdout"
        },
        {
          "output_type": "execute_result",
          "data": {
            "text/plain": [
              "<keras.callbacks.History at 0x7fe10d623518>"
            ]
          },
          "metadata": {
            "tags": []
          },
          "execution_count": 89
        }
      ]
    },
    {
      "metadata": {
        "id": "LMUQ6NyHHlrR",
        "colab_type": "code",
        "colab": {
          "base_uri": "https://localhost:8080/",
          "height": 289
        },
        "outputId": "ebcf23bd-1df9-44eb-c607-aac738657f4a"
      },
      "cell_type": "code",
      "source": [
        "# fitting the model and producing plots for genres ['Family','Thriller','Comedy']\n",
        "    model.fit(x, y,\n",
        "              batch_size=128,\n",
        "              epochs=1,\n",
        "              verbose=2,\n",
        "              callbacks=[generate_text])"
      ],
      "execution_count": 107,
      "outputs": [
        {
          "output_type": "stream",
          "text": [
            "Epoch 1/1\n",
            " - 1061s - loss: 1.7938\n",
            "\n",
            "----- Generating text after Epoch: 0\n",
            "----- diversity: 0.7\n",
            "----- Generating with seed: \"cademy award winner geoffrey rush.a man and his fr\"\n",
            "cademy award winner geoffrey rush.a man and his fri\n",
            "\n",
            "ends between and the character, james of by body pressee the house of the first uncovers a long the \n",
            "\n",
            "couranh, and the coust of the dofter of a hoternd with to the gramoure and rome of the mell cea youn\n",
            "\n",
            "g core and south who trive to ternac could to pretent of the boy of end the chace or all to does tim\n",
            "\n",
            "e of his top of the city, a storylo, the first with sean billive to the fortunater finds a girlfrie\n"
          ],
          "name": "stdout"
        },
        {
          "output_type": "execute_result",
          "data": {
            "text/plain": [
              "<keras.callbacks.History at 0x7fdff4269f98>"
            ]
          },
          "metadata": {
            "tags": []
          },
          "execution_count": 107
        }
      ]
    },
    {
      "metadata": {
        "id": "mnxQLE6WVd7q",
        "colab_type": "code",
        "colab": {}
      },
      "cell_type": "code",
      "source": [
        ""
      ],
      "execution_count": 0,
      "outputs": []
    }
  ]
}